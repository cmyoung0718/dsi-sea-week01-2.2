{
 "cells": [
  {
   "cell_type": "code",
   "execution_count": 1,
   "metadata": {
    "collapsed": false
   },
   "outputs": [
    {
     "data": {
      "text/plain": [
       "9"
      ]
     },
     "execution_count": 1,
     "metadata": {},
     "output_type": "execute_result"
    }
   ],
   "source": [
    "# write a function with one argument. Find the area of a square. \n",
    "def areaSquare(side): \n",
    "    return side * side\n",
    "\n",
    "areaSquare(3)"
   ]
  },
  {
   "cell_type": "code",
   "execution_count": 2,
   "metadata": {
    "collapsed": false
   },
   "outputs": [
    {
     "data": {
      "text/plain": [
       "12"
      ]
     },
     "execution_count": 2,
     "metadata": {},
     "output_type": "execute_result"
    }
   ],
   "source": [
    "# write a function with two arguments. Find the area of a rectangle. \n",
    "def areaRect(length,breadth):\n",
    "    return length * breadth\n",
    "\n",
    "areaRect(3,4)"
   ]
  },
  {
   "cell_type": "code",
   "execution_count": 3,
   "metadata": {
    "collapsed": false
   },
   "outputs": [
    {
     "data": {
      "text/plain": [
       "52"
      ]
     },
     "execution_count": 3,
     "metadata": {},
     "output_type": "execute_result"
    }
   ],
   "source": [
    "# write a function with three arguments. Find the surface area of cuboid.\n",
    "def surfaceAreaCuboid(length,breadth,height): \n",
    "    area=2*((length * breadth) + (breadth * height) + (length * height))\n",
    "    return area\n",
    "    \n",
    "surfaceAreaCuboid(2, 3, 4)"
   ]
  },
  {
   "cell_type": "code",
   "execution_count": 4,
   "metadata": {
    "collapsed": false
   },
   "outputs": [
    {
     "data": {
      "text/plain": [
       "2343"
      ]
     },
     "execution_count": 4,
     "metadata": {},
     "output_type": "execute_result"
    }
   ],
   "source": [
    "# write a function to find the max of three numbers\n",
    "def maxOfThree(num1, num2, num3):\n",
    "    nums = [num1, num2, num3]\n",
    "    nums.sort()\n",
    "    return nums[-1]\n",
    "\n",
    "maxOfThree(3, 2343, 6)\n"
   ]
  },
  {
   "cell_type": "code",
   "execution_count": 5,
   "metadata": {
    "collapsed": false
   },
   "outputs": [
    {
     "data": {
      "text/plain": [
       "27"
      ]
     },
     "execution_count": 5,
     "metadata": {},
     "output_type": "execute_result"
    }
   ],
   "source": [
    "# Write a function to sum all the numbers in a list. Sample List : (8, 2, 3, 0, 7) Expected Output : 20\n",
    "def sumOfList(listy):\n",
    "    return sum(listy)\n",
    "\n",
    "some_nums = [1, 5, 2, 7, 2, 4, 6]\n",
    "sumOfList(some_nums)"
   ]
  },
  {
   "cell_type": "code",
   "execution_count": 6,
   "metadata": {
    "collapsed": false
   },
   "outputs": [
    {
     "data": {
      "text/plain": [
       "3360"
      ]
     },
     "execution_count": 6,
     "metadata": {},
     "output_type": "execute_result"
    }
   ],
   "source": [
    "# Write a function to multiply all the numbers in a list. Sample List : (8, 2, 3, -1, 7) Expected Output : -336\n",
    "def prodOfList(listy):\n",
    "    prod = 1\n",
    "    for i in listy:\n",
    "        prod *= i\n",
    "    return prod\n",
    "\n",
    "some_nums = [1, 5, 2, 7, 2, 4, 6]\n",
    "prodOfList(some_nums)"
   ]
  },
  {
   "cell_type": "code",
   "execution_count": 7,
   "metadata": {
    "collapsed": false
   },
   "outputs": [
    {
     "data": {
      "text/plain": [
       "\"gnirts a s'ereH\""
      ]
     },
     "execution_count": 7,
     "metadata": {},
     "output_type": "execute_result"
    }
   ],
   "source": [
    "# Write a function to reverse a string. Sample String : \"1234abcd\" Expected Output : \"dcba4321\"\n",
    "def reverseStr(stringy):\n",
    "    return stringy[::-1]\n",
    "    \n",
    "thingy = \"Here's a string\"\n",
    "reverseStr(thingy)"
   ]
  },
  {
   "cell_type": "code",
   "execution_count": 8,
   "metadata": {
    "collapsed": false
   },
   "outputs": [
    {
     "data": {
      "text/plain": [
       "120"
      ]
     },
     "execution_count": 8,
     "metadata": {},
     "output_type": "execute_result"
    }
   ],
   "source": [
    "# Write a function to calculate the factorial of a number (non-negative integer). The function accept the number as a argument.\n",
    "def factorialOfNum(num):\n",
    "    counter = num - 1\n",
    "    while counter > 0:\n",
    "        num *= counter\n",
    "        counter -= 1\n",
    "    return num\n",
    "\n",
    "\n",
    "factorialOfNum(5)\n",
    "\n"
   ]
  },
  {
   "cell_type": "code",
   "execution_count": 10,
   "metadata": {
    "collapsed": false
   },
   "outputs": [
    {
     "data": {
      "text/plain": [
       "False"
      ]
     },
     "execution_count": 10,
     "metadata": {},
     "output_type": "execute_result"
    }
   ],
   "source": [
    "# Write a function to check whether a number is in a given range.\n",
    "def numInRange(num):\n",
    "    rng = range(10)\n",
    "    if num in rng:\n",
    "        return True\n",
    "    else:\n",
    "        return False\n",
    "    \n",
    "numInRange(11)\n",
    "\n"
   ]
  },
  {
   "cell_type": "code",
   "execution_count": 18,
   "metadata": {
    "collapsed": false
   },
   "outputs": [
    {
     "name": "stdout",
     "output_type": "stream",
     "text": [
      "No. of Upper case characters: 4 No. of Lower case Characters: 3\n"
     ]
    }
   ],
   "source": [
    "#Write an function that accepts a string and calculate the number of upper case letters and lower case letters. \n",
    "#Sample String : 'The quick Brow Fox' \n",
    "#Expected Output : No. of Upper case characters : 3 No. of Lower case Characters : 12\n",
    "def countOfCases(stringy):\n",
    "    lwr = 0\n",
    "    uppr = 0\n",
    "    for i in stringy:\n",
    "        if i.islower():\n",
    "            lwr += 1\n",
    "        else:\n",
    "            uppr += 1\n",
    "    print \"No. of Upper case characters:\", uppr, \"No. of Lower case Characters:\", lwr\n",
    "    return\n",
    "\n",
    "countOfCases(\"HhHhHHh\")\n"
   ]
  },
  {
   "cell_type": "code",
   "execution_count": 19,
   "metadata": {
    "collapsed": false
   },
   "outputs": [
    {
     "data": {
      "text/plain": [
       "[1, 2, 3, 4, 5]"
      ]
     },
     "execution_count": 19,
     "metadata": {},
     "output_type": "execute_result"
    }
   ],
   "source": [
    "#Write an function that takes a list and returns a new list with unique elements of the first list.\n",
    "#Sample List : [1,2,3,3,3,3,4,5] Unique List : [1, 2, 3, 4, 5]\n",
    "def uniqueEles(listy):\n",
    "    unq_list = []\n",
    "    for i in listy:\n",
    "        if i not in unq_list:\n",
    "            unq_list.append(i)\n",
    "    return unq_list\n",
    "\n",
    "sample_list = [1,2,3,3,3,3,4,5]\n",
    "uniqueEles(sample_list)\n",
    "\n",
    "\n"
   ]
  },
  {
   "cell_type": "code",
   "execution_count": 27,
   "metadata": {
    "collapsed": false
   },
   "outputs": [
    {
     "data": {
      "text/plain": [
       "False"
      ]
     },
     "execution_count": 27,
     "metadata": {},
     "output_type": "execute_result"
    }
   ],
   "source": [
    "#Write a function that takes a number as a parameter and check the number is prime or not. \n",
    "#Note : A prime number (or a prime) is a natural number greater than 1 and that has \n",
    "#no positive divisors other than 1 and itself.\n",
    "def isItPrime(num):\n",
    "    div = num - 1\n",
    "    while div > 1:\n",
    "        if num % div == 0:\n",
    "            return False\n",
    "        else:\n",
    "            div -= 1\n",
    "    return True\n",
    "            \n",
    "isItPrime(12)\n",
    "\n",
    "\n",
    "\n"
   ]
  },
  {
   "cell_type": "code",
   "execution_count": 29,
   "metadata": {
    "collapsed": false
   },
   "outputs": [
    {
     "data": {
      "text/plain": [
       "[2, 4, 6, 8, 10]"
      ]
     },
     "execution_count": 29,
     "metadata": {},
     "output_type": "execute_result"
    }
   ],
   "source": [
    "#Write a function to print the even numbers from a given list. \n",
    "#Sample List : [1, 2, 3, 4, 5, 6, 7, 8, 9] Expected Result : [2, 4, 6, 8]\n",
    "def prntEvenNums(listy):\n",
    "    evens = []\n",
    "    for i in listy:\n",
    "        if i % 2 == 0:\n",
    "            evens.append(i)\n",
    "    return evens\n",
    "\n",
    "example_list = [1, 2, 3, 4, 5, 6, 7, 8, 9, 10]\n",
    "prntEvenNums(example_list)\n",
    "\n",
    "\n"
   ]
  },
  {
   "cell_type": "code",
   "execution_count": null,
   "metadata": {
    "collapsed": true
   },
   "outputs": [],
   "source": []
  }
 ],
 "metadata": {
  "anaconda-cloud": {},
  "kernelspec": {
   "display_name": "Python [Root]",
   "language": "python",
   "name": "Python [Root]"
  },
  "language_info": {
   "codemirror_mode": {
    "name": "ipython",
    "version": 2
   },
   "file_extension": ".py",
   "mimetype": "text/x-python",
   "name": "python",
   "nbconvert_exporter": "python",
   "pygments_lexer": "ipython2",
   "version": "2.7.12"
  }
 },
 "nbformat": 4,
 "nbformat_minor": 0
}
